{
  "nbformat": 4,
  "nbformat_minor": 0,
  "metadata": {
    "colab": {
      "provenance": []
    },
    "kernelspec": {
      "name": "python3",
      "display_name": "Python 3"
    },
    "language_info": {
      "name": "python"
    }
  },
  "cells": [
    {
      "cell_type": "code",
      "execution_count": null,
      "metadata": {
        "colab": {
          "base_uri": "https://localhost:8080/"
        },
        "id": "TsqQBb55nUUJ",
        "outputId": "db41ec16-4698-4259-de2a-2580dc321f53"
      },
      "outputs": [
        {
          "output_type": "stream",
          "name": "stdout",
          "text": [
            "Los datos de sueño se han guardado en 'tarea_03_sueno.csv'.\n"
          ]
        }
      ],
      "source": [
        "import csv\n",
        "\n",
        "# Datos del tutorial sacados de la bitácora física\n",
        "datos_tuto = [\n",
        "    [\"Lunes\", \"01:55\", \"9:32\", \"457 minutos\"],\n",
        "    [\"Martes\", \"00:10\", \"7:00\", \"410 minutos\"],\n",
        "    [\"Miércoles\", \"02:35\", \"8:30\", \"355 minutos\"],\n",
        "    [\"Jueves\", \"23:35\", \"6:30\", \"414 minutos\"],\n",
        "]\n",
        "\n",
        "# Crear CSV y ponerle nombre\n",
        "nombre_archivo = \"tarea_03_sueno.csv\"\n",
        "\n",
        "# Calcular minutos dormidos en total\n",
        "\n",
        "suma_minutos = sum(int(fila[3].split()[0]) for fila in datos_tuto)\n",
        "\n",
        "# Calcular el promedio de minutos de tiempo dormido (dividido por 4)\n",
        "\n",
        "promedio_minutos = suma_minutos / 4\n",
        "\n",
        "# Calcular el promedio en horas (dividido por 60)\n",
        "\n",
        "promedio_horas = promedio_minutos / 60\n",
        "\n",
        "# Poner datos en el CSV y guardarlos\n",
        "\n",
        "with open(nombre_archivo, mode='w', newline='') as archivo_csv:\n",
        "    escritor_csv = csv.writer(archivo_csv)\n",
        "    escritor_csv.writerow([\"Día\", \"Hora de Dormir\", \"Hora de Despertar\", \"Tiempo Dormido\"])\n",
        "    escritor_csv.writerows(datos_tuto)\n",
        "    escritor_csv.writerow([\"Promedio\", \"\", \"\", f\"{promedio_minutos:.2f} minutos ({promedio_horas:.2f} horas)\"])\n",
        "\n",
        "print(f\"Los datos de sueño se han guardado en '{nombre_archivo}'.\")"
      ]
    },
    {
      "cell_type": "markdown",
      "source": [
        "# Nueva sección"
      ],
      "metadata": {
        "id": "O4M6AoG5r-Yo"
      }
    }
  ]
}