{
  "cells": [
    {
      "cell_type": "code",
      "execution_count": null,
      "metadata": {
        "id": "LrUqFdwnis1u"
      },
      "outputs": [],
      "source": [
        "# lista numero del 1 al 100\n",
        "for x in range(100):\n",
        "  print(x+1)\n"
      ]
    },
    {
      "cell_type": "code",
      "execution_count": 1,
      "metadata": {
        "colab": {
          "base_uri": "https://localhost:8080/"
        },
        "id": "9xeaWSkmlWvq",
        "outputId": "bcb96da9-c04b-4825-c227-5272b30d8806"
      },
      "outputs": [
        {
          "name": "stdout",
          "output_type": "stream",
          "text": [
            "3\n",
            "6\n",
            "9\n",
            "12\n",
            "15\n",
            "18\n",
            "21\n",
            "24\n",
            "27\n",
            "30\n",
            "33\n",
            "36\n",
            "39\n",
            "42\n",
            "45\n",
            "48\n",
            "51\n",
            "54\n",
            "57\n",
            "60\n",
            "63\n",
            "66\n",
            "69\n",
            "72\n",
            "75\n",
            "78\n",
            "81\n",
            "84\n",
            "87\n",
            "90\n",
            "93\n",
            "96\n",
            "99\n"
          ]
        }
      ],
      "source": [
        "# Hacer un programa que imprima los números del 1 al 100 que sean divisibles entre 3 (con resto 0)\n",
        "for x in range(100):\n",
        "\n",
        "  if (x+1) % 3 == 0:\n",
        "    print(x+1)\n"
      ]
    },
    {
      "cell_type": "code",
      "execution_count": null,
      "metadata": {
        "colab": {
          "base_uri": "https://localhost:8080/"
        },
        "id": "jD3eu84kmq-B",
        "outputId": "63aa33b4-60e8-48a3-be78-8487579bb098"
      },
      "outputs": [
        {
          "name": "stdout",
          "output_type": "stream",
          "text": [
            "Ingresa un numero100\n",
            "mayor a 100\n"
          ]
        }
      ],
      "source": [
        "# sumador y comparador de numeros\n",
        "numero_1 = int(input(\"Ingresa un numero\"))\n",
        "numero_2 = 5\n",
        "suma = numero_1 + numero_2\n",
        "resultado = \"\"\n",
        "\n",
        "if(suma<100):\n",
        "  resultado = \"menos a 100\"\n",
        "elif(suma>100 and suma<150):\n",
        "  resultado = \"mayor a 100\"\n",
        "elif(suma>=150):\n",
        "  resultado = \"mayor a 150\"\n",
        "\n",
        "print(resultado)"
      ]
    },
    {
      "cell_type": "code",
      "execution_count": null,
      "metadata": {
        "colab": {
          "base_uri": "https://localhost:8080/"
        },
        "id": "l29x0ar8kIrm",
        "outputId": "a1e93856-ba37-4ad2-cae1-01e7195f9306"
      },
      "outputs": [
        {
          "name": "stdout",
          "output_type": "stream",
          "text": [
            "Indica tu edad: 10\n",
            "¿A ti te gusta programar? (responder si o no): no\n",
            "Eres menor de edad y no te gusta programar.\n"
          ]
        }
      ],
      "source": [
        "# Pseudocódigo, Calculador de promedio\n",
        "\n",
        "  # Imputs para pedir edad y si le gusta la programación\n",
        "edad = input(\"Indica tu edad: \")\n",
        "programación = input(\"¿A ti te gusta programar? (responder si o no): \")\n",
        "\n",
        "# Código para discriminar la edad y gusto por programar\n",
        "if int(edad) > 18 and programación == \"si\":\n",
        "  print(\"Eres mayor de edad y te gusta programar.\")\n",
        "elif int(edad) > 18 and programación == \"no\":\n",
        "  print(\"Eres mayor de edad y no te gusta programar.\")\n",
        "elif int(edad) < 18 and programación == \"si\":\n",
        "  print(\"Eres menor de edad y te gusta programar.\")\n",
        "else:\n",
        "  print(\"Eres menor de edad y no te gusta programar.\")"
      ]
    }
  ],
  "metadata": {
    "colab": {
      "provenance": []
    },
    "kernelspec": {
      "display_name": "Python 3",
      "name": "python3"
    },
    "language_info": {
      "name": "python"
    }
  },
  "nbformat": 4,
  "nbformat_minor": 0
}
