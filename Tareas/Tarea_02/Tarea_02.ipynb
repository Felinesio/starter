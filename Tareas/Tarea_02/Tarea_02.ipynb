{
  "cells": [
    {
      "cell_type": "code",
      "execution_count": null,
      "metadata": {
        "id": "LrUqFdwnis1u"
      },
      "outputs": [],
      "source": [
        "# lista numero del 1 al 100\n",
        "for x in range(100):\n",
        "  print(x+1)\n"
      ]
    },
    {
      "cell_type": "code",
      "execution_count": null,
      "metadata": {
        "colab": {
          "base_uri": "https://localhost:8080/"
        },
        "id": "9xeaWSkmlWvq",
        "outputId": "bcb96da9-c04b-4825-c227-5272b30d8806"
      },
      "outputs": [],
      "source": [
        "# Hacer un programa que imprima los números del 1 al 100 que sean divisibles entre 3 (con resto 0)\n",
        "for x in range(100):\n",
        "\n",
        "  if (x+1) % 3 == 0:\n",
        "    print(x+1)\n"
      ]
    },
    {
      "cell_type": "code",
      "execution_count": null,
      "metadata": {
        "colab": {
          "base_uri": "https://localhost:8080/"
        },
        "id": "jD3eu84kmq-B",
        "outputId": "63aa33b4-60e8-48a3-be78-8487579bb098"
      },
      "outputs": [],
      "source": [
        "# sumador y comparador de numeros\n",
        "numero_1 = int(input(\"Ingresa un numero\"))\n",
        "numero_2 = 5\n",
        "suma = numero_1 + numero_2\n",
        "resultado = \"\"\n",
        "\n",
        "if(suma<100):\n",
        "  resultado = \"menos a 100\"\n",
        "elif(suma>100 and suma<150):\n",
        "  resultado = \"mayor a 100\"\n",
        "elif(suma>=150):\n",
        "  resultado = \"mayor a 150\"\n",
        "\n",
        "print(resultado)"
      ]
    },
    {
      "cell_type": "code",
      "execution_count": null,
      "metadata": {
        "colab": {
          "base_uri": "https://localhost:8080/"
        },
        "id": "l29x0ar8kIrm",
        "outputId": "a1e93856-ba37-4ad2-cae1-01e7195f9306"
      },
      "outputs": [],
      "source": [
        "# Pseudocódigo, Calculador de promedio\n",
        "\n",
        "  # Imputs para pedir edad y si le gusta la programación\n",
        "edad = input(\"Indica tu edad: \")\n",
        "programación = input(\"¿A ti te gusta programar? (responder si o no): \")\n",
        "\n",
        "# Código para discriminar la edad y gusto por programar\n",
        "if int(edad) > 18 and programación == \"si\":\n",
        "  print(\"Eres mayor de edad y te gusta programar.\")\n",
        "elif int(edad) > 18 and programación == \"no\":\n",
        "  print(\"Eres mayor de edad y no te gusta programar.\")\n",
        "elif int(edad) < 18 and programación == \"si\":\n",
        "  print(\"Eres menor de edad y te gusta programar.\")\n",
        "else:\n",
        "  print(\"Eres menor de edad y no te gusta programar.\")"
      ]
    }
  ],
  "metadata": {
    "colab": {
      "provenance": []
    },
    "kernelspec": {
      "display_name": "Python 3",
      "name": "python3"
    },
    "language_info": {
      "name": "python"
    }
  },
  "nbformat": 4,
  "nbformat_minor": 0
}
